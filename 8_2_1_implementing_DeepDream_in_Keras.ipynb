{
  "nbformat": 4,
  "nbformat_minor": 0,
  "metadata": {
    "colab": {
      "name": "8.2.1 implementing DeepDream in Keras",
      "provenance": [],
      "authorship_tag": "ABX9TyM4DLEytL2sP4pRUA33tXk1",
      "include_colab_link": true
    },
    "kernelspec": {
      "name": "python3",
      "display_name": "Python 3"
    }
  },
  "cells": [
    {
      "cell_type": "markdown",
      "metadata": {
        "id": "view-in-github",
        "colab_type": "text"
      },
      "source": [
        "<a href=\"https://colab.research.google.com/github/PhillipTodorov/GoogleColabRepo/blob/master/8_2_1_implementing_DeepDream_in_Keras.ipynb\" target=\"_parent\"><img src=\"https://colab.research.google.com/assets/colab-badge.svg\" alt=\"Open In Colab\"/></a>"
      ]
    },
    {
      "cell_type": "code",
      "metadata": {
        "id": "K7SjMT6JW-hE",
        "colab_type": "code",
        "colab": {}
      },
      "source": [
        "#8.2.1 implementing DeepDream in Keras"
      ],
      "execution_count": 0,
      "outputs": []
    },
    {
      "cell_type": "markdown",
      "metadata": {
        "id": "P7BowpriXq4u",
        "colab_type": "text"
      },
      "source": [
        "DeepDream algorithm is similar to the convnet filter-visualisation technique, which involved running a convnet in reverse, doing gradient ascent on the input to the convnet in order to maximise the specific filter in an upper layer of the convnet.\n",
        "\n",
        "DeepDream is slightly different in that:\n",
        "\n",
        "\n",
        "*   DeepDream tries to maximize the activation of all the layers rather than any specific layer, which mixes the visualisations of all the features at once.\n",
        "*   You start from an existing image instead of a blank canvas with a bit of noise which means that the resulting effect draws from the original image. \n",
        "*   Process the images at different scales, called **octaves**, to improve visualisations.\n",
        "* An octave is essentially looking at an image at a smaller scale by zooming in , then running a gradient ascent on that scale, then running a gradient ascent on a scaled up version of that image.\n",
        "\n",
        "\n",
        "\n"
      ]
    },
    {
      "cell_type": "code",
      "metadata": {
        "id": "CqzbdTo6Xn_K",
        "colab_type": "code",
        "colab": {}
      },
      "source": [
        "#we can use any convnet we want but DeepDream works well with Inception V3"
      ],
      "execution_count": 0,
      "outputs": []
    },
    {
      "cell_type": "code",
      "metadata": {
        "id": "FBWV-nwxb3Oo",
        "colab_type": "code",
        "colab": {}
      },
      "source": [
        "#Loading the pretrained Inception V3 model"
      ],
      "execution_count": 0,
      "outputs": []
    },
    {
      "cell_type": "code",
      "metadata": {
        "id": "jdFHBogub7Jy",
        "colab_type": "code",
        "outputId": "26b6ea1f-afb5-445f-ae94-c51421b3878a",
        "colab": {
          "base_uri": "https://localhost:8080/",
          "height": 559
        }
      },
      "source": [
        "from keras.applications import inception_v3\n",
        "from keras import backend as K\n",
        "\n",
        "K.set_learning_phase(0)#this disables all training specific operations as these wont be used for this\n",
        "\n",
        "model = inception_v3.InceptionV3(weights='imagenet', include_top=False)#builds V3 network without convolutional base as it will be loaded with pretrained imagenet weights."
      ],
      "execution_count": 4,
      "outputs": [
        {
          "output_type": "stream",
          "text": [
            "Using TensorFlow backend.\n"
          ],
          "name": "stderr"
        },
        {
          "output_type": "display_data",
          "data": {
            "text/html": [
              "<p style=\"color: red;\">\n",
              "The default version of TensorFlow in Colab will soon switch to TensorFlow 2.x.<br>\n",
              "We recommend you <a href=\"https://www.tensorflow.org/guide/migrate\" target=\"_blank\">upgrade</a> now \n",
              "or ensure your notebook will continue to use TensorFlow 1.x via the <code>%tensorflow_version 1.x</code> magic:\n",
              "<a href=\"https://colab.research.google.com/notebooks/tensorflow_version.ipynb\" target=\"_blank\">more info</a>.</p>\n"
            ],
            "text/plain": [
              "<IPython.core.display.HTML object>"
            ]
          },
          "metadata": {
            "tags": []
          }
        },
        {
          "output_type": "stream",
          "text": [
            "WARNING:tensorflow:From /usr/local/lib/python3.6/dist-packages/keras/backend/tensorflow_backend.py:66: The name tf.get_default_graph is deprecated. Please use tf.compat.v1.get_default_graph instead.\n",
            "\n",
            "WARNING:tensorflow:From /usr/local/lib/python3.6/dist-packages/keras/backend/tensorflow_backend.py:541: The name tf.placeholder is deprecated. Please use tf.compat.v1.placeholder instead.\n",
            "\n",
            "WARNING:tensorflow:From /usr/local/lib/python3.6/dist-packages/keras/backend/tensorflow_backend.py:4432: The name tf.random_uniform is deprecated. Please use tf.random.uniform instead.\n",
            "\n",
            "WARNING:tensorflow:From /usr/local/lib/python3.6/dist-packages/keras/backend/tensorflow_backend.py:190: The name tf.get_default_session is deprecated. Please use tf.compat.v1.get_default_session instead.\n",
            "\n",
            "WARNING:tensorflow:From /usr/local/lib/python3.6/dist-packages/keras/backend/tensorflow_backend.py:197: The name tf.ConfigProto is deprecated. Please use tf.compat.v1.ConfigProto instead.\n",
            "\n",
            "WARNING:tensorflow:From /usr/local/lib/python3.6/dist-packages/keras/backend/tensorflow_backend.py:203: The name tf.Session is deprecated. Please use tf.compat.v1.Session instead.\n",
            "\n",
            "WARNING:tensorflow:From /usr/local/lib/python3.6/dist-packages/keras/backend/tensorflow_backend.py:207: The name tf.global_variables is deprecated. Please use tf.compat.v1.global_variables instead.\n",
            "\n",
            "WARNING:tensorflow:From /usr/local/lib/python3.6/dist-packages/keras/backend/tensorflow_backend.py:216: The name tf.is_variable_initialized is deprecated. Please use tf.compat.v1.is_variable_initialized instead.\n",
            "\n",
            "WARNING:tensorflow:From /usr/local/lib/python3.6/dist-packages/keras/backend/tensorflow_backend.py:223: The name tf.variables_initializer is deprecated. Please use tf.compat.v1.variables_initializer instead.\n",
            "\n",
            "WARNING:tensorflow:From /usr/local/lib/python3.6/dist-packages/keras/backend/tensorflow_backend.py:2041: The name tf.nn.fused_batch_norm is deprecated. Please use tf.compat.v1.nn.fused_batch_norm instead.\n",
            "\n",
            "WARNING:tensorflow:From /usr/local/lib/python3.6/dist-packages/keras/backend/tensorflow_backend.py:4267: The name tf.nn.max_pool is deprecated. Please use tf.nn.max_pool2d instead.\n",
            "\n",
            "WARNING:tensorflow:From /usr/local/lib/python3.6/dist-packages/keras/backend/tensorflow_backend.py:4271: The name tf.nn.avg_pool is deprecated. Please use tf.nn.avg_pool2d instead.\n",
            "\n",
            "Downloading data from https://github.com/fchollet/deep-learning-models/releases/download/v0.5/inception_v3_weights_tf_dim_ordering_tf_kernels_notop.h5\n",
            "87916544/87910968 [==============================] - 3s 0us/step\n"
          ],
          "name": "stdout"
        }
      ]
    },
    {
      "cell_type": "markdown",
      "metadata": {
        "id": "f1LHokhgdBi5",
        "colab_type": "text"
      },
      "source": [
        "Next will be computing the loss which is the quantity you wish to maximise during the gradient-ascent process. Unlike before, here we are trying to maximise the filters in multiple layers at once, specifically the weighted sum of the L2 norm of the activation of a set of high-level layers.\n",
        "\n",
        "The L2 norm is calculated as the square root of the sum of the squared vector values.\n",
        "\n",
        "\n",
        "\n"
      ]
    },
    {
      "cell_type": "markdown",
      "metadata": {
        "id": "cip8sItshfVK",
        "colab_type": "text"
      },
      "source": [
        "![image.png](data:image/png;base64,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)"
      ]
    },
    {
      "cell_type": "markdown",
      "metadata": {
        "id": "thxUBhG2iCJO",
        "colab_type": "text"
      },
      "source": [
        "The exact layers you choose has a major influence on the visuals you produce, so you want to make these easily configurable."
      ]
    },
    {
      "cell_type": "code",
      "metadata": {
        "id": "yQBFgt69c39T",
        "colab_type": "code",
        "colab": {}
      },
      "source": [
        "#Setting up the DeepDream configuration"
      ],
      "execution_count": 0,
      "outputs": []
    },
    {
      "cell_type": "code",
      "metadata": {
        "id": "KtvwCToZij2j",
        "colab_type": "code",
        "colab": {}
      },
      "source": [
        "layer_contributions = {\n",
        "    'mixed2' : 0.2,\n",
        "    'mixed3' : 3.,\n",
        "    'mixed4' : 2.,\n",
        "    'mixed5' : 1.5,\n",
        "}#these layer names are hardcoded, the values represent how much their activation contributes to the loss you want to maximise"
      ],
      "execution_count": 0,
      "outputs": []
    },
    {
      "cell_type": "code",
      "metadata": {
        "id": "gwWKDu5hjKY5",
        "colab_type": "code",
        "colab": {}
      },
      "source": [
        "#Defining the loss to be maximised "
      ],
      "execution_count": 0,
      "outputs": []
    },
    {
      "cell_type": "code",
      "metadata": {
        "id": "wZ4nLnQ8jQSF",
        "colab_type": "code",
        "outputId": "3f47acb3-f26a-43a7-fdba-74d47dfb0a87",
        "colab": {
          "base_uri": "https://localhost:8080/",
          "height": 54
        }
      },
      "source": [
        "layer_dict = dict([(layer.name, layer) for layer in model.layers]) #creates a dictionary of the layers in the model, where layer.name is the name and layer is the value\n",
        "\n",
        "loss = K.variable(0.)#define the loss by adding layer contributions to this scalar variable\n",
        "for layer_name in layer_contributions:\n",
        "  coeff = layer_contributions[layer_name]#assigns the associated layer weighting to coeff\n",
        "  activation = layer_dict[layer_name].output#retrieves the layer output\n",
        "\n",
        "  scaling = K.prod(K.cast(K.shape(activation), 'float32'))\n",
        "  loss += coeff * K.sum(K.square(activation[:,2:-2,2:-2,:])) / scaling #adds the L2 norm of the features of a layer to the loss.\n"
      ],
      "execution_count": 8,
      "outputs": [
        {
          "output_type": "stream",
          "text": [
            "WARNING:tensorflow:Variable += will be deprecated. Use variable.assign_add if you want assignment to the variable value or 'x = x + y' if you want a new python Tensor object.\n"
          ],
          "name": "stdout"
        }
      ]
    },
    {
      "cell_type": "code",
      "metadata": {
        "id": "eK0yCRjrmLKt",
        "colab_type": "code",
        "colab": {}
      },
      "source": [
        "#setting up the gradient-ascent process"
      ],
      "execution_count": 0,
      "outputs": []
    },
    {
      "cell_type": "markdown",
      "metadata": {
        "id": "5vSA73HwrLT3",
        "colab_type": "text"
      },
      "source": [
        "![image.png](data:image/png;base64,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)"
      ]
    },
    {
      "cell_type": "code",
      "metadata": {
        "id": "47z3PXXGmQ2t",
        "colab_type": "code",
        "colab": {}
      },
      "source": [
        "dream = model.input #this is what holds the generated image, it is a tensor object\n",
        "\n",
        "grads = K.gradients(loss, dream)[0] #computes the gradients of the dream with regard to the loss\n",
        "\n",
        "grads /= K.maximum(K.mean(K.abs(grads)), 1e-7) #normalises the gradients\n",
        "\n",
        "outputs = [loss, grads]\n",
        "fetch_loss_and_grads = K.function([dream], outputs) #sets up a keras function to retrieve the value of the loss and gradients, given an input image \n",
        "\n",
        "def eval_loss_and_grads(x):\n",
        "  outs = fetch_loss_and_grads([x])#runs fetch_loss_and_grads on ([x],[loss,grads])\n",
        "  loss_value = outs[0]\n",
        "  grad_values = outs[1]\n",
        "  return loss_value, grad_values\n",
        "\n",
        "def gradient_ascent(x, iterations, step, max_loss=None):#this function runs gradient ascent on a number of iterations \n",
        "  for i in range(iterations):\n",
        "    loss_value, grad_values = eval_loss_and_grads(x) \n",
        "    if max_loss is not None and loss_value > max_loss:\n",
        "      break\n",
        "    print('...Loss value at', i,':', loss_value)\n",
        "    x += step * grad_values\n",
        "  return x"
      ],
      "execution_count": 0,
      "outputs": []
    },
    {
      "cell_type": "markdown",
      "metadata": {
        "id": "QJbTxGO1rtOe",
        "colab_type": "text"
      },
      "source": [
        "Finally the DeepDream algorithm. First you define a list of octaves to process the images at. Each successive scale is larger by a factor of 1.4. You start by processing a smaller image then successively scaling up.\n",
        "\n",
        "You process each scaled up image aswell, inorder to avoid losing too much detail after each scale up, you reinject the lost detail from the original image.\n",
        "\n",
        "You so this by comparing the small image S and the large image L and finding the difference between the two, this difference quantifies the details lost."
      ]
    },
    {
      "cell_type": "code",
      "metadata": {
        "id": "oBtJeU-ivYDl",
        "colab_type": "code",
        "outputId": "9c54ce98-2b89-42de-fa4a-4ce3f371a839",
        "colab": {
          "base_uri": "https://localhost:8080/",
          "height": 122
        }
      },
      "source": [
        "from google.colab import drive\n",
        "drive.mount('/content/drive')"
      ],
      "execution_count": 11,
      "outputs": [
        {
          "output_type": "stream",
          "text": [
            "Go to this URL in a browser: https://accounts.google.com/o/oauth2/auth?client_id=947318989803-6bn6qk8qdgf4n4g3pfee6491hc0brc4i.apps.googleusercontent.com&redirect_uri=urn%3aietf%3awg%3aoauth%3a2.0%3aoob&response_type=code&scope=email%20https%3a%2f%2fwww.googleapis.com%2fauth%2fdocs.test%20https%3a%2f%2fwww.googleapis.com%2fauth%2fdrive%20https%3a%2f%2fwww.googleapis.com%2fauth%2fdrive.photos.readonly%20https%3a%2f%2fwww.googleapis.com%2fauth%2fpeopleapi.readonly\n",
            "\n",
            "Enter your authorization code:\n",
            "··········\n",
            "Mounted at /content/drive\n"
          ],
          "name": "stdout"
        }
      ]
    },
    {
      "cell_type": "code",
      "metadata": {
        "id": "aqPmgVuvv_VW",
        "colab_type": "code",
        "outputId": "84687da6-4075-4eda-8ed5-7cb21af928aa",
        "colab": {
          "base_uri": "https://localhost:8080/",
          "height": 54
        }
      },
      "source": [
        "!ls \"/content/drive/My Drive/Colab Notebooks/81845562_602772407204742_1443464681992749056_n.jpg\""
      ],
      "execution_count": 12,
      "outputs": [
        {
          "output_type": "stream",
          "text": [
            "'/content/drive/My Drive/Colab Notebooks/81845562_602772407204742_1443464681992749056_n.jpg'\n"
          ],
          "name": "stdout"
        }
      ]
    },
    {
      "cell_type": "code",
      "metadata": {
        "id": "1gQPJxCk_HGQ",
        "colab_type": "code",
        "colab": {}
      },
      "source": [
        "#Auxiliary functions"
      ],
      "execution_count": 0,
      "outputs": []
    },
    {
      "cell_type": "code",
      "metadata": {
        "id": "UIvdUWbNJ9Di",
        "colab_type": "code",
        "colab": {}
      },
      "source": [
        "import scipy\n",
        "import imageio\n",
        "from keras.preprocessing import image \n",
        "\n",
        "\n",
        "\n",
        "def resize_img(img, size):\n",
        "  img = np.copy(img)\n",
        "  factors = (1, float(size[0])/img.shape[1], float(size[1])/img.shape[2], 1)\n",
        "  return scipy.ndimage.zoom(img,factors, order=1)\n",
        "\n",
        "def save_img(img,fname): \n",
        "  pil_img = deprocess_image(np.copy(img))\n",
        "  imageio.imsave(fname, pil_img)\n",
        "\n",
        "def preprocess_image(image_path):\n",
        "  img = image.load_img(image_path)\n",
        "  img = image.img_to_array(img)\n",
        "  img = np.expand_dims(img, axis=0)\n",
        "  img = inception_v3.preprocess_input(img)\n",
        "  return img \n",
        "\n",
        "def deprocess_image(x):\n",
        "  if K.image_data_format() == 'channels_first':\n",
        "    x = x.reshape((3, x.shape[2], x.shape[3]))\n",
        "    x = x.transpose((1,2,0))\n",
        "  else:\n",
        "    x = x.reshape((x.shape[1], x.shape[2], 3))\n",
        "  x /= 2. \n",
        "  x += 0.5\n",
        "  x *= 255.\n",
        "  x = np.clip(x, 0, 255).astype('uint8')\n",
        "  return x"
      ],
      "execution_count": 0,
      "outputs": []
    },
    {
      "cell_type": "code",
      "metadata": {
        "id": "k8pFPnaw_PKn",
        "colab_type": "code",
        "colab": {}
      },
      "source": [
        "#Running gradient ascent over different successive scales"
      ],
      "execution_count": 0,
      "outputs": []
    },
    {
      "cell_type": "code",
      "metadata": {
        "id": "IQSLRBm7sVNU",
        "colab_type": "code",
        "outputId": "c2eab249-a316-474d-b8b1-57f9a6cee388",
        "colab": {
          "base_uri": "https://localhost:8080/",
          "height": 476
        }
      },
      "source": [
        "import numpy as np \n",
        "\n",
        "\n",
        "step = 0.01 #gradient step size \n",
        "num_octave = 3 \n",
        "octave_scale = 1.4 #how much to increase octave at each iteration\n",
        "iterations = 20\n",
        "\n",
        "max_loss = 10. #when comparing the the upscaled image, if the loss is greater than max_loss, interupt the gradient descent process\n",
        "\n",
        "base_image_path = \"/content/drive/My Drive/Colab Notebooks/81845562_602772407204742_1443464681992749056_n.jpg\"\n",
        "\n",
        "img = preprocess_image(base_image_path) #load image into numpy array\n",
        "\n",
        "original_shape = img.shape[1:3] #prepares a list of shape tuples defining the different scales at which to run gradient ascent\n",
        "successive_shapes = [original_shape]\n",
        "for i in range(1, num_octave):\n",
        "  shape = tuple([int(dim / (octave_scale ** i)) for dim in original_shape])\n",
        "  successive_shapes.append(shape)\n",
        "\n",
        "successive_shapes = successive_shapes[::-1] #reverses the list of shapes so theyre in increaseing order \n",
        "\n",
        "original_img = np.copy(img) #resize the numpy array of the image to the smallest scale\n",
        "shrunk_original_img = resize_img(img, successive_shapes[0])#using the tuple as the (x,y) scaling values\n",
        "\n",
        "for shape in successive_shapes:\n",
        "  print('Processing image shape', shape)\n",
        "  img = resize_img(img, shape) #scales up the dream image\n",
        "  img = gradient_ascent(img, \n",
        "                        iterations=iterations,\n",
        "                        step=step,\n",
        "                        max_loss=max_loss) #runs gradient ascent altering the dream image\n",
        "  upscaled_shrunk_original_img = resize_img(shrunk_original_img, shape) #scales up the smaller version of the original image: it will be pixelated\n",
        "  same_size_original = resize_img(original_img,shape) #computes the high-quality version of the original image at this size \n",
        "  lost_detail = same_size_original - upscaled_shrunk_original_img #the difference between the two is the detail that was lost when scaling up\n",
        "\n",
        "  img += lost_detail #reinjects the lost detail into the dream \n",
        "  shrunk_original_img = resize_img(original_img, shape) \n",
        "  save_img(img, fname='dream_at_scale' + str(shape) + '.png')\n",
        "\n",
        "save_img(img, fname='final_dream.png')"
      ],
      "execution_count": 26,
      "outputs": [
        {
          "output_type": "stream",
          "text": [
            "Processing image shape (680, 382)\n",
            "...Loss value at 0 : 1.8329282\n",
            "...Loss value at 1 : 2.484874\n",
            "...Loss value at 2 : 3.3739617\n",
            "...Loss value at 3 : 4.3245654\n",
            "...Loss value at 4 : 5.2976813\n",
            "...Loss value at 5 : 6.228157\n",
            "...Loss value at 6 : 7.1206083\n",
            "...Loss value at 7 : 7.916732\n",
            "...Loss value at 8 : 8.728082\n",
            "...Loss value at 9 : 9.414769\n",
            "Processing image shape (952, 535)\n",
            "...Loss value at 0 : 3.4720113\n",
            "...Loss value at 1 : 4.926198\n",
            "...Loss value at 2 : 6.1174016\n",
            "...Loss value at 3 : 7.171053\n",
            "...Loss value at 4 : 8.104186\n",
            "...Loss value at 5 : 8.983133\n",
            "...Loss value at 6 : 9.787296\n",
            "Processing image shape (1334, 750)\n",
            "...Loss value at 0 : 3.5083327\n",
            "...Loss value at 1 : 4.82917\n",
            "...Loss value at 2 : 5.971516\n",
            "...Loss value at 3 : 6.9950533\n",
            "...Loss value at 4 : 7.951465\n",
            "...Loss value at 5 : 8.843798\n",
            "...Loss value at 6 : 9.672234\n"
          ],
          "name": "stdout"
        }
      ]
    },
    {
      "cell_type": "code",
      "metadata": {
        "id": "iYBiJYLTMl89",
        "colab_type": "code",
        "colab": {}
      },
      "source": [
        ""
      ],
      "execution_count": 0,
      "outputs": []
    },
    {
      "cell_type": "code",
      "metadata": {
        "id": "2ns3fd2JCuQa",
        "colab_type": "code",
        "colab": {}
      },
      "source": [
        ""
      ],
      "execution_count": 0,
      "outputs": []
    }
  ]
}